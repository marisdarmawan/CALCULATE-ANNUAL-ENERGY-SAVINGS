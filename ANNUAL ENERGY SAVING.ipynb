{
 "cells": [
  {
   "cell_type": "code",
   "execution_count": 1,
   "id": "eee768c9",
   "metadata": {},
   "outputs": [],
   "source": [
    "import pandas as pd\n",
    "df1 = pd.read_csv('datasets/wastestats.csv')"
   ]
  },
  {
   "cell_type": "code",
   "execution_count": 2,
   "id": "51f07e6a",
   "metadata": {},
   "outputs": [],
   "source": [
    "df2 = pd.read_csv('datasets/2018_2019_waste.csv')"
   ]
  },
  {
   "cell_type": "code",
   "execution_count": 3,
   "id": "30623a9e",
   "metadata": {},
   "outputs": [],
   "source": [
    "df3 = pd.read_csv('datasets/energy_saved.csv')"
   ]
  },
  {
   "cell_type": "code",
   "execution_count": 4,
   "id": "a6d06849",
   "metadata": {},
   "outputs": [
    {
     "data": {
      "text/html": [
       "<div>\n",
       "<style scoped>\n",
       "    .dataframe tbody tr th:only-of-type {\n",
       "        vertical-align: middle;\n",
       "    }\n",
       "\n",
       "    .dataframe tbody tr th {\n",
       "        vertical-align: top;\n",
       "    }\n",
       "\n",
       "    .dataframe thead th {\n",
       "        text-align: right;\n",
       "    }\n",
       "</style>\n",
       "<table border=\"1\" class=\"dataframe\">\n",
       "  <thead>\n",
       "    <tr style=\"text-align: right;\">\n",
       "      <th></th>\n",
       "      <th>waste_type</th>\n",
       "      <th>waste_disposed_of_tonne</th>\n",
       "      <th>total_waste_recycled_tonne</th>\n",
       "      <th>total_waste_generated_tonne</th>\n",
       "      <th>recycling_rate</th>\n",
       "      <th>year</th>\n",
       "    </tr>\n",
       "  </thead>\n",
       "  <tbody>\n",
       "    <tr>\n",
       "      <th>0</th>\n",
       "      <td>Food</td>\n",
       "      <td>679900</td>\n",
       "      <td>111100.0</td>\n",
       "      <td>791000</td>\n",
       "      <td>0.14</td>\n",
       "      <td>2016</td>\n",
       "    </tr>\n",
       "    <tr>\n",
       "      <th>1</th>\n",
       "      <td>Paper/Cardboard</td>\n",
       "      <td>576000</td>\n",
       "      <td>607100.0</td>\n",
       "      <td>1183100</td>\n",
       "      <td>0.51</td>\n",
       "      <td>2016</td>\n",
       "    </tr>\n",
       "    <tr>\n",
       "      <th>2</th>\n",
       "      <td>Plastics</td>\n",
       "      <td>762700</td>\n",
       "      <td>59500.0</td>\n",
       "      <td>822200</td>\n",
       "      <td>0.07</td>\n",
       "      <td>2016</td>\n",
       "    </tr>\n",
       "    <tr>\n",
       "      <th>3</th>\n",
       "      <td>C&amp;D</td>\n",
       "      <td>9700</td>\n",
       "      <td>1585700.0</td>\n",
       "      <td>1595400</td>\n",
       "      <td>0.99</td>\n",
       "      <td>2016</td>\n",
       "    </tr>\n",
       "    <tr>\n",
       "      <th>4</th>\n",
       "      <td>Horticultural waste</td>\n",
       "      <td>111500</td>\n",
       "      <td>209000.0</td>\n",
       "      <td>320500</td>\n",
       "      <td>0.65</td>\n",
       "      <td>2016</td>\n",
       "    </tr>\n",
       "  </tbody>\n",
       "</table>\n",
       "</div>"
      ],
      "text/plain": [
       "            waste_type  waste_disposed_of_tonne  total_waste_recycled_tonne  \\\n",
       "0                 Food                   679900                    111100.0   \n",
       "1      Paper/Cardboard                   576000                    607100.0   \n",
       "2             Plastics                   762700                     59500.0   \n",
       "3                  C&D                     9700                   1585700.0   \n",
       "4  Horticultural waste                   111500                    209000.0   \n",
       "\n",
       "   total_waste_generated_tonne  recycling_rate  year  \n",
       "0                       791000            0.14  2016  \n",
       "1                      1183100            0.51  2016  \n",
       "2                       822200            0.07  2016  \n",
       "3                      1595400            0.99  2016  \n",
       "4                       320500            0.65  2016  "
      ]
     },
     "execution_count": 4,
     "metadata": {},
     "output_type": "execute_result"
    }
   ],
   "source": [
    "df1.head()"
   ]
  },
  {
   "cell_type": "code",
   "execution_count": 5,
   "id": "c4a799a5",
   "metadata": {},
   "outputs": [
    {
     "data": {
      "text/html": [
       "<div>\n",
       "<style scoped>\n",
       "    .dataframe tbody tr th:only-of-type {\n",
       "        vertical-align: middle;\n",
       "    }\n",
       "\n",
       "    .dataframe tbody tr th {\n",
       "        vertical-align: top;\n",
       "    }\n",
       "\n",
       "    .dataframe thead th {\n",
       "        text-align: right;\n",
       "    }\n",
       "</style>\n",
       "<table border=\"1\" class=\"dataframe\">\n",
       "  <thead>\n",
       "    <tr style=\"text-align: right;\">\n",
       "      <th></th>\n",
       "      <th>Waste Type</th>\n",
       "      <th>Total Generated ('000 tonnes)</th>\n",
       "      <th>Total Recycled ('000 tonnes)</th>\n",
       "      <th>Year</th>\n",
       "    </tr>\n",
       "  </thead>\n",
       "  <tbody>\n",
       "    <tr>\n",
       "      <th>0</th>\n",
       "      <td>Construction&amp; Demolition</td>\n",
       "      <td>1440</td>\n",
       "      <td>1434</td>\n",
       "      <td>2019</td>\n",
       "    </tr>\n",
       "    <tr>\n",
       "      <th>1</th>\n",
       "      <td>Ferrous Metal</td>\n",
       "      <td>1278</td>\n",
       "      <td>1270</td>\n",
       "      <td>2019</td>\n",
       "    </tr>\n",
       "    <tr>\n",
       "      <th>2</th>\n",
       "      <td>Paper/Cardboard</td>\n",
       "      <td>1011</td>\n",
       "      <td>449</td>\n",
       "      <td>2019</td>\n",
       "    </tr>\n",
       "    <tr>\n",
       "      <th>3</th>\n",
       "      <td>Plastics</td>\n",
       "      <td>930</td>\n",
       "      <td>37</td>\n",
       "      <td>2019</td>\n",
       "    </tr>\n",
       "    <tr>\n",
       "      <th>4</th>\n",
       "      <td>Food</td>\n",
       "      <td>7440</td>\n",
       "      <td>136</td>\n",
       "      <td>2019</td>\n",
       "    </tr>\n",
       "  </tbody>\n",
       "</table>\n",
       "</div>"
      ],
      "text/plain": [
       "                 Waste Type  Total Generated ('000 tonnes)  \\\n",
       "0  Construction& Demolition                           1440   \n",
       "1             Ferrous Metal                           1278   \n",
       "2           Paper/Cardboard                           1011   \n",
       "3                  Plastics                            930   \n",
       "4                      Food                           7440   \n",
       "\n",
       "   Total Recycled ('000 tonnes)  Year  \n",
       "0                          1434  2019  \n",
       "1                          1270  2019  \n",
       "2                           449  2019  \n",
       "3                            37  2019  \n",
       "4                           136  2019  "
      ]
     },
     "execution_count": 5,
     "metadata": {},
     "output_type": "execute_result"
    }
   ],
   "source": [
    "df2.head()"
   ]
  },
  {
   "cell_type": "code",
   "execution_count": 6,
   "id": "02ef7320",
   "metadata": {},
   "outputs": [
    {
     "data": {
      "text/html": [
       "<div>\n",
       "<style scoped>\n",
       "    .dataframe tbody tr th:only-of-type {\n",
       "        vertical-align: middle;\n",
       "    }\n",
       "\n",
       "    .dataframe tbody tr th {\n",
       "        vertical-align: top;\n",
       "    }\n",
       "\n",
       "    .dataframe thead th {\n",
       "        text-align: right;\n",
       "    }\n",
       "</style>\n",
       "<table border=\"1\" class=\"dataframe\">\n",
       "  <thead>\n",
       "    <tr style=\"text-align: right;\">\n",
       "      <th></th>\n",
       "      <th>The table gives the amount of energy saved in kilowatt hour (kWh) and the amount of crude oil (barrels) by recycling 1 metric tonne (1000 kilogram)  per waste type</th>\n",
       "      <th>Unnamed: 1</th>\n",
       "      <th>Unnamed: 2</th>\n",
       "      <th>Unnamed: 3</th>\n",
       "      <th>Unnamed: 4</th>\n",
       "      <th>Unnamed: 5</th>\n",
       "    </tr>\n",
       "  </thead>\n",
       "  <tbody>\n",
       "    <tr>\n",
       "      <th>0</th>\n",
       "      <td>1 barrel oil is approximately 159 litres of oil</td>\n",
       "      <td>NaN</td>\n",
       "      <td>NaN</td>\n",
       "      <td>NaN</td>\n",
       "      <td>NaN</td>\n",
       "      <td>NaN</td>\n",
       "    </tr>\n",
       "    <tr>\n",
       "      <th>1</th>\n",
       "      <td>NaN</td>\n",
       "      <td>NaN</td>\n",
       "      <td>NaN</td>\n",
       "      <td>NaN</td>\n",
       "      <td>NaN</td>\n",
       "      <td>NaN</td>\n",
       "    </tr>\n",
       "    <tr>\n",
       "      <th>2</th>\n",
       "      <td>material</td>\n",
       "      <td>Plastic</td>\n",
       "      <td>Glass</td>\n",
       "      <td>Ferrous Metal</td>\n",
       "      <td>Non-Ferrous Metal</td>\n",
       "      <td>Paper</td>\n",
       "    </tr>\n",
       "    <tr>\n",
       "      <th>3</th>\n",
       "      <td>energy_saved</td>\n",
       "      <td>5774 Kwh</td>\n",
       "      <td>42 Kwh</td>\n",
       "      <td>642 Kwh</td>\n",
       "      <td>14000 Kwh</td>\n",
       "      <td>4000 kWh</td>\n",
       "    </tr>\n",
       "    <tr>\n",
       "      <th>4</th>\n",
       "      <td>crude_oil saved</td>\n",
       "      <td>16 barrels</td>\n",
       "      <td>NaN</td>\n",
       "      <td>1.8 barrels</td>\n",
       "      <td>40 barrels</td>\n",
       "      <td>1.7 barrels</td>\n",
       "    </tr>\n",
       "  </tbody>\n",
       "</table>\n",
       "</div>"
      ],
      "text/plain": [
       "  The table gives the amount of energy saved in kilowatt hour (kWh) and the amount of crude oil (barrels) by recycling 1 metric tonne (1000 kilogram)  per waste type  \\\n",
       "0    1 barrel oil is approximately 159 litres of oil                                                                                                                    \n",
       "1                                                NaN                                                                                                                    \n",
       "2                                           material                                                                                                                    \n",
       "3                                       energy_saved                                                                                                                    \n",
       "4                                    crude_oil saved                                                                                                                    \n",
       "\n",
       "   Unnamed: 1 Unnamed: 2     Unnamed: 3         Unnamed: 4   Unnamed: 5  \n",
       "0         NaN        NaN            NaN                NaN          NaN  \n",
       "1         NaN        NaN            NaN                NaN          NaN  \n",
       "2     Plastic      Glass  Ferrous Metal  Non-Ferrous Metal        Paper  \n",
       "3    5774 Kwh     42 Kwh        642 Kwh          14000 Kwh     4000 kWh  \n",
       "4  16 barrels        NaN    1.8 barrels         40 barrels  1.7 barrels  "
      ]
     },
     "execution_count": 6,
     "metadata": {},
     "output_type": "execute_result"
    }
   ],
   "source": [
    "df3"
   ]
  },
  {
   "cell_type": "code",
   "execution_count": 7,
   "id": "63692d00",
   "metadata": {},
   "outputs": [
    {
     "data": {
      "text/plain": [
       "Total                                      15\n",
       "Paper/Cardboard                            15\n",
       "Glass                                      15\n",
       "Textile/Leather                            15\n",
       "Plastics                                   14\n",
       "Others (stones, ceramics & rubber etc)     12\n",
       "Food waste                                 11\n",
       "Wood/Timber                                11\n",
       "Non-ferrous Metals                         11\n",
       "Scrap Tyres                                11\n",
       "Sludge                                     11\n",
       "Horticultural Waste                        11\n",
       "Construction Debris                        11\n",
       "Used Slag                                  11\n",
       "Ferrous Metal                               7\n",
       "Horticultural waste                         4\n",
       "Used slag                                   4\n",
       "Wood                                        4\n",
       "Food                                        4\n",
       "Ferrous metal                               4\n",
       "Scrap tyres                                 4\n",
       "Ferrous Metals                              4\n",
       "C&D                                         3\n",
       "Non-ferrous metal                           3\n",
       "Ash & Sludge                                3\n",
       "Non-ferrous metals                          1\n",
       "Others (stones, ceramic, rubber, etc.)      1\n",
       "Others (stones, ceramics & rubber etc.)     1\n",
       "Plastic                                     1\n",
       "Others                                      1\n",
       "Ash and sludge                              1\n",
       "Construction debris                         1\n",
       "Name: waste_type, dtype: int64"
      ]
     },
     "execution_count": 7,
     "metadata": {},
     "output_type": "execute_result"
    }
   ],
   "source": [
    "df1['waste_type'].value_counts()"
   ]
  },
  {
   "cell_type": "code",
   "execution_count": 8,
   "id": "2cc4c642",
   "metadata": {},
   "outputs": [],
   "source": [
    "df1['waste_type'] = df1['waste_type'].replace(['Non-ferrous Metals', 'Non-ferrous metal', 'Non-ferrous metals'], 'Non-ferrous Metal')"
   ]
  },
  {
   "cell_type": "code",
   "execution_count": 9,
   "id": "aec3a1e0",
   "metadata": {},
   "outputs": [],
   "source": [
    "df1['waste_type'] = df1['waste_type'].replace(['Ferrous Metals', 'Ferrous metal'], 'Ferrous Metal')"
   ]
  },
  {
   "cell_type": "code",
   "execution_count": 10,
   "id": "5092071f",
   "metadata": {},
   "outputs": [],
   "source": [
    "df1['waste_type'] = df1['waste_type'].replace(['Plastics'], 'Plastic')"
   ]
  },
  {
   "cell_type": "code",
   "execution_count": 11,
   "id": "045cc2a9",
   "metadata": {},
   "outputs": [
    {
     "data": {
      "text/plain": [
       "Plastic                                    15\n",
       "Paper/Cardboard                            15\n",
       "Total                                      15\n",
       "Non-ferrous Metal                          15\n",
       "Ferrous Metal                              15\n",
       "Textile/Leather                            15\n",
       "Glass                                      15\n",
       "Others (stones, ceramics & rubber etc)     12\n",
       "Used Slag                                  11\n",
       "Horticultural Waste                        11\n",
       "Wood/Timber                                11\n",
       "Scrap Tyres                                11\n",
       "Construction Debris                        11\n",
       "Sludge                                     11\n",
       "Food waste                                 11\n",
       "Used slag                                   4\n",
       "Scrap tyres                                 4\n",
       "Horticultural waste                         4\n",
       "Food                                        4\n",
       "Wood                                        4\n",
       "Ash & Sludge                                3\n",
       "C&D                                         3\n",
       "Ash and sludge                              1\n",
       "Others (stones, ceramics & rubber etc.)     1\n",
       "Others (stones, ceramic, rubber, etc.)      1\n",
       "Others                                      1\n",
       "Construction debris                         1\n",
       "Name: waste_type, dtype: int64"
      ]
     },
     "execution_count": 11,
     "metadata": {},
     "output_type": "execute_result"
    }
   ],
   "source": [
    "df1['waste_type'].value_counts()"
   ]
  },
  {
   "cell_type": "code",
   "execution_count": 12,
   "id": "43dbd774",
   "metadata": {},
   "outputs": [],
   "source": [
    "df1 = df1[(df1['waste_type']=='Non-ferrous Metal')|(df1['waste_type']=='Ferrous Metal')|(df1['waste_type']=='Glass')|(df1['waste_type']=='Plastic')]"
   ]
  },
  {
   "cell_type": "code",
   "execution_count": 13,
   "id": "b5464c64",
   "metadata": {},
   "outputs": [
    {
     "data": {
      "text/plain": [
       "2003    4\n",
       "2004    4\n",
       "2005    4\n",
       "2006    4\n",
       "2007    4\n",
       "2008    4\n",
       "2009    4\n",
       "2010    4\n",
       "2011    4\n",
       "2012    4\n",
       "2013    4\n",
       "2014    4\n",
       "2015    4\n",
       "2016    4\n",
       "2017    4\n",
       "Name: year, dtype: int64"
      ]
     },
     "execution_count": 13,
     "metadata": {},
     "output_type": "execute_result"
    }
   ],
   "source": [
    "df1['year'].value_counts()"
   ]
  },
  {
   "cell_type": "code",
   "execution_count": 14,
   "id": "4c4d26c0",
   "metadata": {},
   "outputs": [],
   "source": [
    "df1 = df1[df1['year']>=2015]"
   ]
  },
  {
   "cell_type": "code",
   "execution_count": 15,
   "id": "6dfbcb8c",
   "metadata": {},
   "outputs": [],
   "source": [
    "df1 = df1.drop(['waste_disposed_of_tonne', 'total_waste_generated_tonne', 'recycling_rate'], axis=1)"
   ]
  },
  {
   "cell_type": "code",
   "execution_count": 16,
   "id": "13ba9cfe",
   "metadata": {},
   "outputs": [
    {
     "data": {
      "text/html": [
       "<div>\n",
       "<style scoped>\n",
       "    .dataframe tbody tr th:only-of-type {\n",
       "        vertical-align: middle;\n",
       "    }\n",
       "\n",
       "    .dataframe tbody tr th {\n",
       "        vertical-align: top;\n",
       "    }\n",
       "\n",
       "    .dataframe thead th {\n",
       "        text-align: right;\n",
       "    }\n",
       "</style>\n",
       "<table border=\"1\" class=\"dataframe\">\n",
       "  <thead>\n",
       "    <tr style=\"text-align: right;\">\n",
       "      <th></th>\n",
       "      <th>The table gives the amount of energy saved in kilowatt hour (kWh) and the amount of crude oil (barrels) by recycling 1 metric tonne (1000 kilogram)  per waste type</th>\n",
       "      <th>Unnamed: 1</th>\n",
       "      <th>Unnamed: 2</th>\n",
       "      <th>Unnamed: 3</th>\n",
       "      <th>Unnamed: 4</th>\n",
       "      <th>Unnamed: 5</th>\n",
       "    </tr>\n",
       "  </thead>\n",
       "  <tbody>\n",
       "    <tr>\n",
       "      <th>0</th>\n",
       "      <td>1 barrel oil is approximately 159 litres of oil</td>\n",
       "      <td>NaN</td>\n",
       "      <td>NaN</td>\n",
       "      <td>NaN</td>\n",
       "      <td>NaN</td>\n",
       "      <td>NaN</td>\n",
       "    </tr>\n",
       "    <tr>\n",
       "      <th>1</th>\n",
       "      <td>NaN</td>\n",
       "      <td>NaN</td>\n",
       "      <td>NaN</td>\n",
       "      <td>NaN</td>\n",
       "      <td>NaN</td>\n",
       "      <td>NaN</td>\n",
       "    </tr>\n",
       "    <tr>\n",
       "      <th>2</th>\n",
       "      <td>material</td>\n",
       "      <td>Plastic</td>\n",
       "      <td>Glass</td>\n",
       "      <td>Ferrous Metal</td>\n",
       "      <td>Non-Ferrous Metal</td>\n",
       "      <td>Paper</td>\n",
       "    </tr>\n",
       "    <tr>\n",
       "      <th>3</th>\n",
       "      <td>energy_saved</td>\n",
       "      <td>5774 Kwh</td>\n",
       "      <td>42 Kwh</td>\n",
       "      <td>642 Kwh</td>\n",
       "      <td>14000 Kwh</td>\n",
       "      <td>4000 kWh</td>\n",
       "    </tr>\n",
       "    <tr>\n",
       "      <th>4</th>\n",
       "      <td>crude_oil saved</td>\n",
       "      <td>16 barrels</td>\n",
       "      <td>NaN</td>\n",
       "      <td>1.8 barrels</td>\n",
       "      <td>40 barrels</td>\n",
       "      <td>1.7 barrels</td>\n",
       "    </tr>\n",
       "  </tbody>\n",
       "</table>\n",
       "</div>"
      ],
      "text/plain": [
       "  The table gives the amount of energy saved in kilowatt hour (kWh) and the amount of crude oil (barrels) by recycling 1 metric tonne (1000 kilogram)  per waste type  \\\n",
       "0    1 barrel oil is approximately 159 litres of oil                                                                                                                    \n",
       "1                                                NaN                                                                                                                    \n",
       "2                                           material                                                                                                                    \n",
       "3                                       energy_saved                                                                                                                    \n",
       "4                                    crude_oil saved                                                                                                                    \n",
       "\n",
       "   Unnamed: 1 Unnamed: 2     Unnamed: 3         Unnamed: 4   Unnamed: 5  \n",
       "0         NaN        NaN            NaN                NaN          NaN  \n",
       "1         NaN        NaN            NaN                NaN          NaN  \n",
       "2     Plastic      Glass  Ferrous Metal  Non-Ferrous Metal        Paper  \n",
       "3    5774 Kwh     42 Kwh        642 Kwh          14000 Kwh     4000 kWh  \n",
       "4  16 barrels        NaN    1.8 barrels         40 barrels  1.7 barrels  "
      ]
     },
     "execution_count": 16,
     "metadata": {},
     "output_type": "execute_result"
    }
   ],
   "source": [
    "df3"
   ]
  },
  {
   "cell_type": "code",
   "execution_count": 17,
   "id": "8fbb16c0",
   "metadata": {},
   "outputs": [],
   "source": [
    "df3 = df3.dropna()"
   ]
  },
  {
   "cell_type": "code",
   "execution_count": 18,
   "id": "c5a9453d",
   "metadata": {},
   "outputs": [],
   "source": [
    "df3.columns = ['Energy Saved', 'Plastic', 'Glass', 'Ferrous Metal', 'Non-Ferrous Metal', 'Paper']"
   ]
  },
  {
   "cell_type": "code",
   "execution_count": 19,
   "id": "7f16e6b8",
   "metadata": {},
   "outputs": [],
   "source": [
    "df3 = df3.drop(index=2)"
   ]
  },
  {
   "cell_type": "code",
   "execution_count": 20,
   "id": "46115ed8",
   "metadata": {},
   "outputs": [
    {
     "data": {
      "text/html": [
       "<div>\n",
       "<style scoped>\n",
       "    .dataframe tbody tr th:only-of-type {\n",
       "        vertical-align: middle;\n",
       "    }\n",
       "\n",
       "    .dataframe tbody tr th {\n",
       "        vertical-align: top;\n",
       "    }\n",
       "\n",
       "    .dataframe thead th {\n",
       "        text-align: right;\n",
       "    }\n",
       "</style>\n",
       "<table border=\"1\" class=\"dataframe\">\n",
       "  <thead>\n",
       "    <tr style=\"text-align: right;\">\n",
       "      <th></th>\n",
       "      <th>Energy Saved</th>\n",
       "      <th>Plastic</th>\n",
       "      <th>Glass</th>\n",
       "      <th>Ferrous Metal</th>\n",
       "      <th>Non-Ferrous Metal</th>\n",
       "      <th>Paper</th>\n",
       "    </tr>\n",
       "  </thead>\n",
       "  <tbody>\n",
       "    <tr>\n",
       "      <th>3</th>\n",
       "      <td>energy_saved</td>\n",
       "      <td>5774 Kwh</td>\n",
       "      <td>42 Kwh</td>\n",
       "      <td>642 Kwh</td>\n",
       "      <td>14000 Kwh</td>\n",
       "      <td>4000 kWh</td>\n",
       "    </tr>\n",
       "  </tbody>\n",
       "</table>\n",
       "</div>"
      ],
      "text/plain": [
       "   Energy Saved   Plastic   Glass Ferrous Metal Non-Ferrous Metal     Paper\n",
       "3  energy_saved  5774 Kwh  42 Kwh       642 Kwh         14000 Kwh  4000 kWh"
      ]
     },
     "execution_count": 20,
     "metadata": {},
     "output_type": "execute_result"
    }
   ],
   "source": [
    "df3"
   ]
  },
  {
   "cell_type": "code",
   "execution_count": 21,
   "id": "903a7597",
   "metadata": {},
   "outputs": [
    {
     "data": {
      "text/html": [
       "<div>\n",
       "<style scoped>\n",
       "    .dataframe tbody tr th:only-of-type {\n",
       "        vertical-align: middle;\n",
       "    }\n",
       "\n",
       "    .dataframe tbody tr th {\n",
       "        vertical-align: top;\n",
       "    }\n",
       "\n",
       "    .dataframe thead th {\n",
       "        text-align: right;\n",
       "    }\n",
       "</style>\n",
       "<table border=\"1\" class=\"dataframe\">\n",
       "  <thead>\n",
       "    <tr style=\"text-align: right;\">\n",
       "      <th></th>\n",
       "      <th>waste_type</th>\n",
       "      <th>total_waste_recycled_tonne</th>\n",
       "      <th>year</th>\n",
       "    </tr>\n",
       "  </thead>\n",
       "  <tbody>\n",
       "    <tr>\n",
       "      <th>2</th>\n",
       "      <td>Plastic</td>\n",
       "      <td>59500.0</td>\n",
       "      <td>2016</td>\n",
       "    </tr>\n",
       "    <tr>\n",
       "      <th>6</th>\n",
       "      <td>Ferrous Metal</td>\n",
       "      <td>1351500.0</td>\n",
       "      <td>2016</td>\n",
       "    </tr>\n",
       "    <tr>\n",
       "      <th>7</th>\n",
       "      <td>Non-ferrous Metal</td>\n",
       "      <td>95900.0</td>\n",
       "      <td>2016</td>\n",
       "    </tr>\n",
       "    <tr>\n",
       "      <th>10</th>\n",
       "      <td>Glass</td>\n",
       "      <td>14700.0</td>\n",
       "      <td>2016</td>\n",
       "    </tr>\n",
       "    <tr>\n",
       "      <th>17</th>\n",
       "      <td>Plastic</td>\n",
       "      <td>57800.0</td>\n",
       "      <td>2015</td>\n",
       "    </tr>\n",
       "  </tbody>\n",
       "</table>\n",
       "</div>"
      ],
      "text/plain": [
       "           waste_type  total_waste_recycled_tonne  year\n",
       "2             Plastic                     59500.0  2016\n",
       "6       Ferrous Metal                   1351500.0  2016\n",
       "7   Non-ferrous Metal                     95900.0  2016\n",
       "10              Glass                     14700.0  2016\n",
       "17            Plastic                     57800.0  2015"
      ]
     },
     "execution_count": 21,
     "metadata": {},
     "output_type": "execute_result"
    }
   ],
   "source": [
    "df1.head()"
   ]
  },
  {
   "cell_type": "code",
   "execution_count": 22,
   "id": "6e7c7bbd",
   "metadata": {},
   "outputs": [],
   "source": [
    "def energy(type,waste):\n",
    "    if type == 'Plastic':\n",
    "        return waste*5774\n",
    "    elif type == 'Ferrous Metal':\n",
    "        return waste*642\n",
    "    elif type == 'Non-ferrous Metal':\n",
    "        return waste*14000\n",
    "    elif type == 'Glass':\n",
    "        return waste*42"
   ]
  },
  {
   "cell_type": "code",
   "execution_count": 23,
   "id": "be287f5e",
   "metadata": {},
   "outputs": [],
   "source": [
    "df1['energy_saved'] = df1.apply(lambda x: energy(x['waste_type'], x['total_waste_recycled_tonne']), axis=1)"
   ]
  },
  {
   "cell_type": "code",
   "execution_count": 24,
   "id": "edb549c2",
   "metadata": {},
   "outputs": [
    {
     "data": {
      "text/plain": [
       "0"
      ]
     },
     "execution_count": 24,
     "metadata": {},
     "output_type": "execute_result"
    }
   ],
   "source": [
    "df1['energy_saved'].isnull().sum()"
   ]
  },
  {
   "cell_type": "code",
   "execution_count": 25,
   "id": "875a4a3a",
   "metadata": {},
   "outputs": [
    {
     "data": {
      "text/plain": [
       "year\n",
       "2015    3.435929e+09\n",
       "2016    2.554433e+09\n",
       "2017    2.470596e+09\n",
       "Name: energy_saved, dtype: float64"
      ]
     },
     "execution_count": 25,
     "metadata": {},
     "output_type": "execute_result"
    }
   ],
   "source": [
    "s1 = df1.groupby('year').sum()['energy_saved']\n",
    "s1"
   ]
  },
  {
   "cell_type": "code",
   "execution_count": 26,
   "id": "7bbbe7bd",
   "metadata": {},
   "outputs": [
    {
     "data": {
      "text/plain": [
       "Used Slag                                2\n",
       "Overall                                  2\n",
       "Textile/Leather                          2\n",
       "Ferrous Metal                            2\n",
       "Construction& Demolition                 2\n",
       "Plastics                                 2\n",
       "Horticultural                            2\n",
       "Non-Ferrous Metal                        2\n",
       "Scrap Tyres                              2\n",
       "Paper/Cardboard                          2\n",
       "Others (stones, ceramic, rubber, ect)    2\n",
       "Ash & Sludge                             2\n",
       "Wood                                     2\n",
       "Glass                                    2\n",
       "Food                                     2\n",
       "Name: Waste Type, dtype: int64"
      ]
     },
     "execution_count": 26,
     "metadata": {},
     "output_type": "execute_result"
    }
   ],
   "source": [
    "df2['Waste Type'].value_counts()"
   ]
  },
  {
   "cell_type": "code",
   "execution_count": 27,
   "id": "6d481afc",
   "metadata": {},
   "outputs": [],
   "source": [
    "df2 = df2[(df2['Waste Type']=='Ferrous Metal')|(df2['Waste Type']=='Non-Ferrous Metal')|(df2['Waste Type']=='Plastics')|(df2['Waste Type']=='Glass')]"
   ]
  },
  {
   "cell_type": "code",
   "execution_count": 28,
   "id": "85793064",
   "metadata": {},
   "outputs": [
    {
     "data": {
      "text/html": [
       "<div>\n",
       "<style scoped>\n",
       "    .dataframe tbody tr th:only-of-type {\n",
       "        vertical-align: middle;\n",
       "    }\n",
       "\n",
       "    .dataframe tbody tr th {\n",
       "        vertical-align: top;\n",
       "    }\n",
       "\n",
       "    .dataframe thead th {\n",
       "        text-align: right;\n",
       "    }\n",
       "</style>\n",
       "<table border=\"1\" class=\"dataframe\">\n",
       "  <thead>\n",
       "    <tr style=\"text-align: right;\">\n",
       "      <th></th>\n",
       "      <th>Waste Type</th>\n",
       "      <th>Total Generated ('000 tonnes)</th>\n",
       "      <th>Total Recycled ('000 tonnes)</th>\n",
       "      <th>Year</th>\n",
       "    </tr>\n",
       "  </thead>\n",
       "  <tbody>\n",
       "    <tr>\n",
       "      <th>1</th>\n",
       "      <td>Ferrous Metal</td>\n",
       "      <td>1278</td>\n",
       "      <td>1270</td>\n",
       "      <td>2019</td>\n",
       "    </tr>\n",
       "    <tr>\n",
       "      <th>3</th>\n",
       "      <td>Plastics</td>\n",
       "      <td>930</td>\n",
       "      <td>37</td>\n",
       "      <td>2019</td>\n",
       "    </tr>\n",
       "    <tr>\n",
       "      <th>10</th>\n",
       "      <td>Non-Ferrous Metal</td>\n",
       "      <td>126</td>\n",
       "      <td>124</td>\n",
       "      <td>2019</td>\n",
       "    </tr>\n",
       "    <tr>\n",
       "      <th>11</th>\n",
       "      <td>Glass</td>\n",
       "      <td>75</td>\n",
       "      <td>11</td>\n",
       "      <td>2019</td>\n",
       "    </tr>\n",
       "    <tr>\n",
       "      <th>16</th>\n",
       "      <td>Ferrous Metal</td>\n",
       "      <td>1269</td>\n",
       "      <td>126</td>\n",
       "      <td>2018</td>\n",
       "    </tr>\n",
       "    <tr>\n",
       "      <th>18</th>\n",
       "      <td>Plastics</td>\n",
       "      <td>949</td>\n",
       "      <td>41</td>\n",
       "      <td>2018</td>\n",
       "    </tr>\n",
       "    <tr>\n",
       "      <th>25</th>\n",
       "      <td>Non-Ferrous Metal</td>\n",
       "      <td>171</td>\n",
       "      <td>170</td>\n",
       "      <td>2018</td>\n",
       "    </tr>\n",
       "    <tr>\n",
       "      <th>26</th>\n",
       "      <td>Glass</td>\n",
       "      <td>64</td>\n",
       "      <td>12</td>\n",
       "      <td>2018</td>\n",
       "    </tr>\n",
       "  </tbody>\n",
       "</table>\n",
       "</div>"
      ],
      "text/plain": [
       "           Waste Type  Total Generated ('000 tonnes)  \\\n",
       "1       Ferrous Metal                           1278   \n",
       "3            Plastics                            930   \n",
       "10  Non-Ferrous Metal                            126   \n",
       "11              Glass                             75   \n",
       "16      Ferrous Metal                           1269   \n",
       "18           Plastics                            949   \n",
       "25  Non-Ferrous Metal                            171   \n",
       "26              Glass                             64   \n",
       "\n",
       "    Total Recycled ('000 tonnes)  Year  \n",
       "1                           1270  2019  \n",
       "3                             37  2019  \n",
       "10                           124  2019  \n",
       "11                            11  2019  \n",
       "16                           126  2018  \n",
       "18                            41  2018  \n",
       "25                           170  2018  \n",
       "26                            12  2018  "
      ]
     },
     "execution_count": 28,
     "metadata": {},
     "output_type": "execute_result"
    }
   ],
   "source": [
    "df2"
   ]
  },
  {
   "cell_type": "code",
   "execution_count": 29,
   "id": "978ce3c7",
   "metadata": {},
   "outputs": [],
   "source": [
    "df2 = df2.drop(\"Total Generated ('000 tonnes)\", axis=1)"
   ]
  },
  {
   "cell_type": "code",
   "execution_count": 30,
   "id": "ad0cb9f5",
   "metadata": {},
   "outputs": [],
   "source": [
    "df2[\"Total Recycled\"] = df2[\"Total Recycled ('000 tonnes)\"].apply(lambda x: x*1000)"
   ]
  },
  {
   "cell_type": "code",
   "execution_count": 31,
   "id": "c70ca5c8",
   "metadata": {},
   "outputs": [],
   "source": [
    "def energy2(type,waste):\n",
    "    if type == 'Plastics':\n",
    "        return waste*5774\n",
    "    elif type == 'Ferrous Metal':\n",
    "        return waste*642\n",
    "    elif type == 'Non-Ferrous Metal':\n",
    "        return waste*14000\n",
    "    elif type == 'Glass':\n",
    "        return waste*42"
   ]
  },
  {
   "cell_type": "code",
   "execution_count": 32,
   "id": "66b610bd",
   "metadata": {},
   "outputs": [],
   "source": [
    "df2['Energy_Saved'] = df2.apply(lambda x: energy2(x['Waste Type'], x[\"Total Recycled\"]), axis=1)"
   ]
  },
  {
   "cell_type": "code",
   "execution_count": 33,
   "id": "da23a1ae",
   "metadata": {},
   "outputs": [
    {
     "data": {
      "text/plain": [
       "0"
      ]
     },
     "execution_count": 33,
     "metadata": {},
     "output_type": "execute_result"
    }
   ],
   "source": [
    "df2['Energy_Saved'].isnull().sum()"
   ]
  },
  {
   "cell_type": "code",
   "execution_count": 34,
   "id": "15949740",
   "metadata": {},
   "outputs": [
    {
     "data": {
      "text/plain": [
       "Year\n",
       "2018    2698130000\n",
       "2019    2765440000\n",
       "Name: Energy_Saved, dtype: int64"
      ]
     },
     "execution_count": 34,
     "metadata": {},
     "output_type": "execute_result"
    }
   ],
   "source": [
    "ser2 = df2.groupby('Year').sum()['Energy_Saved']\n",
    "ser2"
   ]
  },
  {
   "cell_type": "code",
   "execution_count": 35,
   "id": "f0a77886",
   "metadata": {},
   "outputs": [],
   "source": [
    "saving = pd.concat([s1, ser2], axis=0)"
   ]
  },
  {
   "cell_type": "code",
   "execution_count": 36,
   "id": "7703308b",
   "metadata": {},
   "outputs": [
    {
     "data": {
      "text/plain": [
       "2015    3.435929e+09\n",
       "2016    2.554433e+09\n",
       "2017    2.470596e+09\n",
       "2018    2.698130e+09\n",
       "2019    2.765440e+09\n",
       "dtype: float64"
      ]
     },
     "execution_count": 36,
     "metadata": {},
     "output_type": "execute_result"
    }
   ],
   "source": [
    "saving"
   ]
  },
  {
   "cell_type": "code",
   "execution_count": 37,
   "id": "6b8e771e",
   "metadata": {},
   "outputs": [],
   "source": [
    "annual_energy_savings = pd.DataFrame(saving)"
   ]
  },
  {
   "cell_type": "code",
   "execution_count": 38,
   "id": "2a163de2",
   "metadata": {},
   "outputs": [],
   "source": [
    "annual_energy_savings.columns = ['total_energy_saved']"
   ]
  },
  {
   "cell_type": "code",
   "execution_count": 39,
   "id": "714db027",
   "metadata": {},
   "outputs": [],
   "source": [
    "annual_energy_savings.index.name = 'year'"
   ]
  },
  {
   "cell_type": "code",
   "execution_count": 40,
   "id": "f245ba79",
   "metadata": {},
   "outputs": [],
   "source": [
    "annual_energy_savings['total_energy_saved'] = annual_energy_savings['total_energy_saved'].astype('int64')"
   ]
  },
  {
   "cell_type": "code",
   "execution_count": 41,
   "id": "08246172",
   "metadata": {},
   "outputs": [
    {
     "data": {
      "text/html": [
       "<div>\n",
       "<style scoped>\n",
       "    .dataframe tbody tr th:only-of-type {\n",
       "        vertical-align: middle;\n",
       "    }\n",
       "\n",
       "    .dataframe tbody tr th {\n",
       "        vertical-align: top;\n",
       "    }\n",
       "\n",
       "    .dataframe thead th {\n",
       "        text-align: right;\n",
       "    }\n",
       "</style>\n",
       "<table border=\"1\" class=\"dataframe\">\n",
       "  <thead>\n",
       "    <tr style=\"text-align: right;\">\n",
       "      <th></th>\n",
       "      <th>total_energy_saved</th>\n",
       "    </tr>\n",
       "    <tr>\n",
       "      <th>year</th>\n",
       "      <th></th>\n",
       "    </tr>\n",
       "  </thead>\n",
       "  <tbody>\n",
       "    <tr>\n",
       "      <th>2015</th>\n",
       "      <td>3435929000</td>\n",
       "    </tr>\n",
       "    <tr>\n",
       "      <th>2016</th>\n",
       "      <td>2554433400</td>\n",
       "    </tr>\n",
       "    <tr>\n",
       "      <th>2017</th>\n",
       "      <td>2470596000</td>\n",
       "    </tr>\n",
       "    <tr>\n",
       "      <th>2018</th>\n",
       "      <td>2698130000</td>\n",
       "    </tr>\n",
       "    <tr>\n",
       "      <th>2019</th>\n",
       "      <td>2765440000</td>\n",
       "    </tr>\n",
       "  </tbody>\n",
       "</table>\n",
       "</div>"
      ],
      "text/plain": [
       "      total_energy_saved\n",
       "year                    \n",
       "2015          3435929000\n",
       "2016          2554433400\n",
       "2017          2470596000\n",
       "2018          2698130000\n",
       "2019          2765440000"
      ]
     },
     "execution_count": 41,
     "metadata": {},
     "output_type": "execute_result"
    }
   ],
   "source": [
    "annual_energy_savings"
   ]
  },
  {
   "cell_type": "code",
   "execution_count": null,
   "id": "b67dcc19",
   "metadata": {},
   "outputs": [],
   "source": []
  }
 ],
 "metadata": {
  "kernelspec": {
   "display_name": "Python 3",
   "language": "python",
   "name": "python3"
  },
  "language_info": {
   "codemirror_mode": {
    "name": "ipython",
    "version": 3
   },
   "file_extension": ".py",
   "mimetype": "text/x-python",
   "name": "python",
   "nbconvert_exporter": "python",
   "pygments_lexer": "ipython3",
   "version": "3.8.8"
  }
 },
 "nbformat": 4,
 "nbformat_minor": 5
}
